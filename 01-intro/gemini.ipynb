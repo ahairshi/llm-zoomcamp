{
 "cells": [
  {
   "cell_type": "code",
   "execution_count": 2,
   "id": "4780799f-302c-48c7-84ba-d2ab74860d24",
   "metadata": {},
   "outputs": [
    {
     "name": "stderr",
     "output_type": "stream",
     "text": [
      "/usr/local/python/3.10.13/lib/python3.10/site-packages/tqdm/auto.py:21: TqdmWarning: IProgress not found. Please update jupyter and ipywidgets. See https://ipywidgets.readthedocs.io/en/stable/user_install.html\n",
      "  from .autonotebook import tqdm as notebook_tqdm\n"
     ]
    }
   ],
   "source": [
    "import google.generativeai as genai\n",
    "import os\n",
    "\n",
    "genai.configure(api_key=os.environ[\"GEMINI_API_KEY\"])\n",
    "\n",
    "model = genai.GenerativeModel('gemini-1.5-flash')"
   ]
  },
  {
   "cell_type": "code",
   "execution_count": 1,
   "id": "e4cb746e-28da-4789-aa77-cd6f4ae09d00",
   "metadata": {},
   "outputs": [
    {
     "data": {
      "text/plain": [
       "True"
      ]
     },
     "execution_count": 1,
     "metadata": {},
     "output_type": "execute_result"
    }
   ],
   "source": [
    "from dotenv import load_dotenv\n",
    "load_dotenv()"
   ]
  },
  {
   "cell_type": "code",
   "execution_count": 4,
   "id": "f6f75d0e-352a-4374-a0c6-da5aad9f025e",
   "metadata": {},
   "outputs": [
    {
     "name": "stdout",
     "output_type": "stream",
     "text": [
      "## Retrieval Augmented Generation: Analogy Time!\n",
      "\n",
      "Imagine you're writing a research paper. You need to gather information from various sources: books, articles, websites. You could manually read through all of them, highlighting relevant information. But wouldn't it be easier to have a super-smart assistant that **searches and pulls** the specific information you need, based on your query? \n",
      "\n",
      "That's exactly what Retrieval Augmented Generation (RAG) does for large language models (LLMs). \n",
      "\n",
      "**Here's a breakdown of the analogy:**\n",
      "\n",
      "* **You:** The person writing the research paper. You have a task to complete and need information.\n",
      "* **Large Language Model (LLM):** The writing assistant. It can generate text and respond to prompts, but needs the right information to do it well.\n",
      "* **Retrieval System:** The super-smart assistant. It scans a vast database of information (like your library) and retrieves relevant snippets based on your query.\n",
      "* **RAG:** The process of combining the LLM and the retrieval system. The retrieval system pulls information, and the LLM uses it to generate text, like your research paper.\n",
      "\n",
      "**Think of RAG as a \"knowledge-powered\" LLM.** It doesn't just generate text out of thin air; it utilizes relevant information from a curated database to provide more accurate, insightful, and context-aware responses.\n",
      "\n",
      "**Here are some more analogies:**\n",
      "\n",
      "* **Chef and Recipe Book:** The chef (LLM) can cook, but needs a recipe (retrieved information) to create a specific dish.\n",
      "* **Artist and Reference Images:** An artist (LLM) uses reference images (retrieved information) to guide their painting.\n",
      "* **Translator and Dictionary:** The translator (LLM) uses the dictionary (retrieved information) to find the best words for a translation.\n",
      "\n",
      "Overall, RAG is a powerful tool for LLMs, allowing them to access and utilize information from external sources, making them more intelligent and capable. \n",
      "\n"
     ]
    }
   ],
   "source": [
    "response = model.generate_content(\"Retrieval Augmented Generation analogy\")\n",
    "print(response.text)"
   ]
  },
  {
   "cell_type": "code",
   "execution_count": null,
   "id": "6dffa782-781b-4938-ac82-779a25d25b34",
   "metadata": {},
   "outputs": [],
   "source": []
  }
 ],
 "metadata": {
  "kernelspec": {
   "display_name": "Python 3 (ipykernel)",
   "language": "python",
   "name": "python3"
  },
  "language_info": {
   "codemirror_mode": {
    "name": "ipython",
    "version": 3
   },
   "file_extension": ".py",
   "mimetype": "text/x-python",
   "name": "python",
   "nbconvert_exporter": "python",
   "pygments_lexer": "ipython3",
   "version": "3.10.13"
  }
 },
 "nbformat": 4,
 "nbformat_minor": 5
}
