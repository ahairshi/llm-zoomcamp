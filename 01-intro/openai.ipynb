{
 "cells": [
  {
   "cell_type": "code",
   "execution_count": 6,
   "id": "1f1c5d03-73b2-4249-bb34-69acabe55805",
   "metadata": {},
   "outputs": [],
   "source": [
    "import openai\n",
    "import sys\n",
    "import os"
   ]
  },
  {
   "cell_type": "code",
   "execution_count": 3,
   "id": "13427a7b-568a-42ba-99de-0eb51b8e4e99",
   "metadata": {},
   "outputs": [],
   "source": [
    "from openai import OpenAI"
   ]
  },
  {
   "cell_type": "code",
   "execution_count": 4,
   "id": "b40e5659-ca4f-4717-857f-b7c36bf65ded",
   "metadata": {},
   "outputs": [],
   "source": [
    "client = OpenAI()"
   ]
  },
  {
   "cell_type": "code",
   "execution_count": 14,
   "id": "5272959f-9de1-4e78-aee1-3356eb4d9cb0",
   "metadata": {},
   "outputs": [],
   "source": [
    "response = client.chat.completions.create(\n",
    "    model='gpt-3.5-turbo',\n",
    "    messages=[{\"role\": \"user\", \"content\": \"Can You explain RAG Generative AI model in layman term?\"}]\n",
    ")"
   ]
  },
  {
   "cell_type": "code",
   "execution_count": 15,
   "id": "387dd43d-4da8-47ca-ac08-73ccbd119b52",
   "metadata": {},
   "outputs": [
    {
     "data": {
      "text/plain": [
       "\"The RAG (Retrieval-Augmented Generation) Generative AI model is a type of AI technology that combines two important aspects of artificial intelligence: retrieval and generation. \\n\\nIn simple terms, the RAG model first retrieves information from a large database of text (like books, articles, or websites) to understand a topic or answer a question. Then, using that retrieved information, the model generates a new piece of text that is relevant and informative. \\n\\nThis method allows the AI to not only understand and use existing information but also to create new content based on that information. It's like having a very smart assistant that can quickly find the right information and then use it to write an essay, answer a question, or create a story.\""
      ]
     },
     "execution_count": 15,
     "metadata": {},
     "output_type": "execute_result"
    }
   ],
   "source": [
    "response.choices[0].message.content"
   ]
  },
  {
   "cell_type": "code",
   "execution_count": null,
   "id": "c0fd5313-2441-4b03-a14a-f1acc5745824",
   "metadata": {},
   "outputs": [],
   "source": []
  }
 ],
 "metadata": {
  "kernelspec": {
   "display_name": "Python 3 (ipykernel)",
   "language": "python",
   "name": "python3"
  },
  "language_info": {
   "codemirror_mode": {
    "name": "ipython",
    "version": 3
   },
   "file_extension": ".py",
   "mimetype": "text/x-python",
   "name": "python",
   "nbconvert_exporter": "python",
   "pygments_lexer": "ipython3",
   "version": "3.10.13"
  }
 },
 "nbformat": 4,
 "nbformat_minor": 5
}
